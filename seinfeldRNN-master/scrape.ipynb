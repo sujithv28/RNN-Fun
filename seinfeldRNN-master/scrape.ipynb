{
 "cells": [
  {
   "cell_type": "code",
   "execution_count": 1,
   "metadata": {
    "collapsed": false
   },
   "outputs": [],
   "source": [
    "import requests"
   ]
  },
  {
   "cell_type": "code",
   "execution_count": 2,
   "metadata": {
    "collapsed": false
   },
   "outputs": [],
   "source": [
    "URL = 'http://www.seinology.com/scripts/script-%s.shtml'\n",
    "\n",
    "url = URL % '102'\n",
    "\n",
    "resp = requests.get(url)\n",
    "resp.raise_for_status()\n",
    "\n",
    "html = resp.text"
   ]
  },
  {
   "cell_type": "code",
   "execution_count": 3,
   "metadata": {
    "collapsed": true
   },
   "outputs": [],
   "source": [
    "\n",
    "import re\n",
    "import sys\n",
    "\n",
    "\n",
    "\n",
    "def unescape(s):\n",
    "    \"\"\"Replace HTML jibberish with normal symbols.\"\"\"\n",
    "    s = s.replace(\"&lt;\", \"<\")\n",
    "    s = s.replace(\"&gt;\", \">\")\n",
    "    s = s.replace(\"&#145;\", \"'\")\n",
    "    s = s.replace(\"&#146;\", \"'\")\n",
    "    s = s.replace(\"&#147;\", \"'\")\n",
    "    s = s.replace(\"&#148;\", \"'\")\n",
    "    s = s.replace(\"&#149;\", \"'\")\n",
    "    s = s.replace(\"&#150;\", \"'\")\n",
    "\n",
    "    s = s.replace(\"&quot;\", \"'\")\n",
    "    s = s.replace(\"&#133;\", \"...\")\n",
    "\n",
    "\n",
    "    # this has to be last:\n",
    "    s = s.replace(\"&amp;\", \"&\")\n",
    "    return s\n",
    "\n",
    "def parse_episode_info(html):\n",
    "    \"\"\"Return a dict with meta-info about the episode.\"\"\"\n",
    "    groups = re.search(r'pc: .*? season (\\d+), episode (\\d+)', html).groups()\n",
    "    season_num = int(groups[0])\n",
    "    episode_num = int(groups[1])\n",
    "\n",
    "    title = re.search(r'Episode \\d+(.*?) - (.*?)<', html).groups()[1]\n",
    "    date = re.search(r'Broadcast date: (.*?)<', html).groups()[0]\n",
    "    writers = re.search(r'Written [bB]y:? (.*?)<', html).groups()[0]\n",
    "    writers = tuple([w.strip() for w in re.split(r',|&amp;', writers) if w])\n",
    "    director = re.search(r'Directed [bB]y (.*?)<', html).groups()[0]\n",
    "\n",
    "    return {'season_num': season_num, 'episode_num': episode_num, \n",
    "            'title': title, 'date': date, 'writers': writers, \n",
    "            'director': director}\n",
    "\n",
    "def parse_script(html):\n",
    "    utterances = [(utt[0], utt[2]) for utt in \n",
    "                  re.findall(r'([A-Z]+)( \\(.*?\\))?: (.*?)<br>', html)]\n",
    "\n",
    "    for i, (speaker, utterance) in enumerate(utterances):\n",
    "        if speaker.upper() == 'JERRY' and \\\n",
    "              i == 0 and \\\n",
    "              len(utterance.split()) > 100:\n",
    "\n",
    "            print >> sys.stderr, \"SKIPPING MONOLOGUE\"\n",
    "            continue\n",
    "        sentences = parse_utterance(utterance)\n",
    "        yield (speaker, sentences)\n",
    "\n",
    "def parse_utterance(utterance):\n",
    "    \"\"\"Return a list of sentences found in the utterance.\"\"\"\n",
    "    #TODO: ignore monologue?\n",
    "    for sentence in re.split(r'(?<!\\.{3})(?<=[.;?!])\\s+', unescape(utterance)):\n",
    "        yield sentence"
   ]
  },
  {
   "cell_type": "code",
   "execution_count": 4,
   "metadata": {
    "collapsed": true
   },
   "outputs": [],
   "source": [
    "def format_num(n):\n",
    "    return '%02d' % n\n",
    "\n",
    "episode_numbers = (\n",
    "    map(format_num, range(1, 82)) + \n",
    "\n",
    "    # Double episode\n",
    "    ['82and83'] +\n",
    "\n",
    "    map(format_num, range(84, 100)) + \n",
    "\n",
    "    # Skip the clip show \"100and101\".\n",
    "\n",
    "    map(format_num, range(102, 177)) + \n",
    "\n",
    "    # Skip the clip show \"177and178\".\n",
    "\n",
    "    # Double episode (Finale)\n",
    "    ['179and180']\n",
    ")\n",
    "num_episodes = len(episode_numbers)"
   ]
  },
  {
   "cell_type": "code",
   "execution_count": 5,
   "metadata": {
    "collapsed": true
   },
   "outputs": [],
   "source": [
    "f = open('seinfeld.txt','w')"
   ]
  },
  {
   "cell_type": "code",
   "execution_count": 6,
   "metadata": {
    "collapsed": false
   },
   "outputs": [
    {
     "name": "stdout",
     "output_type": "stream",
     "text": [
      "Done 0/174\n",
      "Done 1/174"
     ]
    },
    {
     "name": "stderr",
     "output_type": "stream",
     "text": [
      "SKIPPING MONOLOGUE\n",
      "SKIPPING MONOLOGUE"
     ]
    },
    {
     "name": "stdout",
     "output_type": "stream",
     "text": [
      "\n",
      "Done 2/174"
     ]
    },
    {
     "name": "stderr",
     "output_type": "stream",
     "text": [
      "\n",
      "SKIPPING MONOLOGUE"
     ]
    },
    {
     "name": "stdout",
     "output_type": "stream",
     "text": [
      "\n",
      "Done 3/174"
     ]
    },
    {
     "name": "stderr",
     "output_type": "stream",
     "text": [
      "\n",
      "SKIPPING MONOLOGUE"
     ]
    },
    {
     "name": "stdout",
     "output_type": "stream",
     "text": [
      "\n",
      "Done 4/174"
     ]
    },
    {
     "name": "stderr",
     "output_type": "stream",
     "text": [
      "\n",
      "SKIPPING MONOLOGUE"
     ]
    },
    {
     "name": "stdout",
     "output_type": "stream",
     "text": [
      "\n",
      "Done 5/174"
     ]
    },
    {
     "name": "stderr",
     "output_type": "stream",
     "text": [
      "\n",
      "SKIPPING MONOLOGUE"
     ]
    },
    {
     "name": "stdout",
     "output_type": "stream",
     "text": [
      "\n",
      "Done 6/174"
     ]
    },
    {
     "name": "stderr",
     "output_type": "stream",
     "text": [
      "\n",
      "SKIPPING MONOLOGUE"
     ]
    },
    {
     "name": "stdout",
     "output_type": "stream",
     "text": [
      "\n",
      "Done 7/174"
     ]
    },
    {
     "name": "stderr",
     "output_type": "stream",
     "text": [
      "\n",
      "SKIPPING MONOLOGUE"
     ]
    },
    {
     "name": "stdout",
     "output_type": "stream",
     "text": [
      "\n",
      "Done 8/174"
     ]
    },
    {
     "name": "stderr",
     "output_type": "stream",
     "text": [
      "\n",
      "SKIPPING MONOLOGUE"
     ]
    },
    {
     "name": "stdout",
     "output_type": "stream",
     "text": [
      "\n",
      "Done 9/174"
     ]
    },
    {
     "name": "stderr",
     "output_type": "stream",
     "text": [
      "\n",
      "SKIPPING MONOLOGUE"
     ]
    },
    {
     "name": "stdout",
     "output_type": "stream",
     "text": [
      "\n",
      "Done 10/174"
     ]
    },
    {
     "name": "stderr",
     "output_type": "stream",
     "text": [
      "\n",
      "SKIPPING MONOLOGUE"
     ]
    },
    {
     "name": "stdout",
     "output_type": "stream",
     "text": [
      "\n",
      "Done 11/174"
     ]
    },
    {
     "name": "stderr",
     "output_type": "stream",
     "text": [
      "\n",
      "SKIPPING MONOLOGUE"
     ]
    },
    {
     "name": "stdout",
     "output_type": "stream",
     "text": [
      "\n",
      "Done 12/174\n",
      "Done 13/174"
     ]
    },
    {
     "name": "stderr",
     "output_type": "stream",
     "text": [
      "\n",
      "SKIPPING MONOLOGUE"
     ]
    },
    {
     "name": "stdout",
     "output_type": "stream",
     "text": [
      "\n",
      "Done 14/174"
     ]
    },
    {
     "name": "stderr",
     "output_type": "stream",
     "text": [
      "\n",
      "SKIPPING MONOLOGUE"
     ]
    },
    {
     "name": "stdout",
     "output_type": "stream",
     "text": [
      "\n",
      "Done 15/174"
     ]
    },
    {
     "name": "stderr",
     "output_type": "stream",
     "text": [
      "\n",
      "SKIPPING MONOLOGUE"
     ]
    },
    {
     "name": "stdout",
     "output_type": "stream",
     "text": [
      "\n",
      "Done 16/174"
     ]
    },
    {
     "name": "stderr",
     "output_type": "stream",
     "text": [
      "\n",
      "SKIPPING MONOLOGUE"
     ]
    },
    {
     "name": "stdout",
     "output_type": "stream",
     "text": [
      "\n",
      "Done 17/174"
     ]
    },
    {
     "name": "stderr",
     "output_type": "stream",
     "text": [
      "\n",
      "SKIPPING MONOLOGUE"
     ]
    },
    {
     "name": "stdout",
     "output_type": "stream",
     "text": [
      "\n",
      "Done 18/174"
     ]
    },
    {
     "name": "stderr",
     "output_type": "stream",
     "text": [
      "\n",
      "SKIPPING MONOLOGUE"
     ]
    },
    {
     "name": "stdout",
     "output_type": "stream",
     "text": [
      "\n",
      "Done 19/174\n",
      "Done 20/174"
     ]
    },
    {
     "name": "stderr",
     "output_type": "stream",
     "text": [
      "\n",
      "SKIPPING MONOLOGUE"
     ]
    },
    {
     "name": "stdout",
     "output_type": "stream",
     "text": [
      "\n",
      "Done 21/174\n",
      "Done 22/174\n",
      "Done 23/174"
     ]
    },
    {
     "name": "stderr",
     "output_type": "stream",
     "text": [
      "\n",
      "SKIPPING MONOLOGUE"
     ]
    },
    {
     "name": "stdout",
     "output_type": "stream",
     "text": [
      "\n",
      "Done 24/174\n",
      "Done 25/174\n",
      "Done 26/174\n",
      "Done 27/174"
     ]
    },
    {
     "name": "stderr",
     "output_type": "stream",
     "text": [
      "\n",
      "SKIPPING MONOLOGUE"
     ]
    },
    {
     "name": "stdout",
     "output_type": "stream",
     "text": [
      "\n",
      "Done 28/174\n",
      "Done 29/174\n",
      "Done 30/174\n",
      "Done 31/174\n",
      "Done 32/174\n",
      "Done 33/174\n",
      "Done 34/174\n",
      "Done 35/174\n",
      "Done 36/174\n",
      "Done 37/174\n",
      "Done 38/174\n",
      "Done 39/174\n",
      "Done 40/174\n",
      "Done 41/174\n",
      "Done 42/174\n",
      "Done 43/174\n",
      "Done 44/174\n",
      "Done 45/174\n",
      "Done 46/174\n",
      "Done 47/174\n",
      "Done 48/174\n",
      "Done 49/174\n",
      "Done 50/174\n",
      "Done 51/174\n",
      "Done 52/174\n",
      "Done 53/174\n",
      "Done 54/174\n",
      "Done 55/174\n",
      "Done 56/174\n",
      "Done 57/174\n",
      "Done 58/174"
     ]
    },
    {
     "name": "stderr",
     "output_type": "stream",
     "text": [
      "\n",
      "SKIPPING MONOLOGUE"
     ]
    },
    {
     "name": "stdout",
     "output_type": "stream",
     "text": [
      "\n",
      "Done 59/174\n",
      "Done 60/174\n",
      "Done 61/174\n",
      "Done 62/174\n",
      "Done 63/174\n",
      "Done 64/174\n",
      "Done 65/174\n",
      "Done 66/174\n",
      "Done 67/174\n",
      "Done 68/174\n",
      "Done 69/174\n",
      "Done 70/174"
     ]
    },
    {
     "name": "stderr",
     "output_type": "stream",
     "text": [
      "\n",
      "SKIPPING MONOLOGUE"
     ]
    },
    {
     "name": "stdout",
     "output_type": "stream",
     "text": [
      "\n",
      "Done 71/174"
     ]
    },
    {
     "name": "stderr",
     "output_type": "stream",
     "text": [
      "\n",
      "SKIPPING MONOLOGUE"
     ]
    },
    {
     "name": "stdout",
     "output_type": "stream",
     "text": [
      "\n",
      "Done 72/174"
     ]
    },
    {
     "name": "stderr",
     "output_type": "stream",
     "text": [
      "\n",
      "SKIPPING MONOLOGUE"
     ]
    },
    {
     "name": "stdout",
     "output_type": "stream",
     "text": [
      "\n",
      "Done 73/174"
     ]
    },
    {
     "name": "stderr",
     "output_type": "stream",
     "text": [
      "\n",
      "SKIPPING MONOLOGUE"
     ]
    },
    {
     "name": "stdout",
     "output_type": "stream",
     "text": [
      "\n",
      "Done 74/174\n",
      "Done 75/174\n",
      "Done 76/174"
     ]
    },
    {
     "name": "stderr",
     "output_type": "stream",
     "text": [
      "\n",
      "SKIPPING MONOLOGUE"
     ]
    },
    {
     "name": "stdout",
     "output_type": "stream",
     "text": [
      "\n",
      "Done 77/174"
     ]
    },
    {
     "name": "stderr",
     "output_type": "stream",
     "text": [
      "\n",
      "SKIPPING MONOLOGUE"
     ]
    },
    {
     "name": "stdout",
     "output_type": "stream",
     "text": [
      "\n",
      "Done 78/174\n",
      "Done 79/174\n",
      "Done 80/174\n",
      "Done 81/174\n",
      "Done 82/174\n",
      "Done 83/174\n",
      "Done 84/174\n",
      "Done 85/174\n",
      "Done 86/174\n",
      "Done 87/174\n",
      "Done 88/174\n",
      "Done 89/174"
     ]
    },
    {
     "name": "stderr",
     "output_type": "stream",
     "text": [
      "\n",
      "SKIPPING MONOLOGUE"
     ]
    },
    {
     "name": "stdout",
     "output_type": "stream",
     "text": [
      "\n",
      "Done 90/174\n",
      "Done 91/174\n",
      "Done 92/174\n",
      "Done 93/174\n",
      "Done 94/174\n",
      "Done 95/174\n",
      "Done 96/174\n",
      "Done 97/174\n",
      "Done 98/174\n",
      "Done 99/174\n",
      "Done 100/174\n",
      "Done 101/174\n",
      "Done 102/174\n",
      "Done 103/174\n",
      "Done 104/174\n",
      "Done 105/174\n",
      "Done 106/174\n",
      "Done 107/174\n",
      "Done 108/174\n",
      "Done 109/174\n",
      "Done 110/174\n",
      "Done 111/174\n",
      "Done 112/174\n",
      "Done 113/174\n",
      "Done 114/174\n",
      "Done 115/174\n",
      "Done 116/174\n",
      "Done 117/174\n",
      "Done 118/174\n",
      "Done 119/174\n",
      "Done 120/174\n",
      "Done 121/174\n",
      "Done 122/174\n",
      "Done 123/174\n",
      "Done 124/174\n",
      "Done 125/174\n",
      "Done 126/174\n",
      "Done 127/174\n",
      "Done 128/174\n",
      "Done 129/174\n",
      "Done 130/174\n",
      "Done 131/174\n",
      "Done 132/174\n",
      "Done 133/174\n",
      "Done 134/174\n",
      "Done 135/174\n",
      "Done 136/174\n",
      "Done 137/174\n",
      "Done 138/174\n",
      "Done 139/174\n",
      "Done 140/174\n",
      "Done 141/174\n",
      "Done 142/174\n",
      "Done 143/174\n",
      "Done 144/174\n",
      "Done 145/174\n",
      "Done 146/174\n",
      "Done 147/174\n",
      "Done 148/174\n",
      "Done 149/174\n",
      "Done 150/174\n",
      "Done 151/174\n",
      "Done 152/174\n",
      "Done 153/174\n",
      "Done 154/174\n",
      "Done 155/174\n",
      "Done 156/174\n",
      "Done 157/174\n",
      "Done 158/174\n",
      "Done 159/174\n",
      "Done 160/174\n",
      "Done 161/174\n",
      "Done 162/174\n",
      "Done 163/174\n",
      "Done 164/174\n",
      "Done 165/174\n",
      "Done 166/174\n",
      "Done 167/174\n",
      "Done 168/174\n",
      "Done 169/174\n",
      "Done 170/174\n",
      "Done 171/174\n",
      "Done 172/174\n",
      "Done 173/174\n"
     ]
    },
    {
     "name": "stderr",
     "output_type": "stream",
     "text": [
      "\n"
     ]
    }
   ],
   "source": [
    "for j, nb in enumerate(episode_numbers):\n",
    "    URL = 'http://www.seinology.com/scripts/script-%s.shtml'\n",
    "\n",
    "    url = URL % nb\n",
    "\n",
    "    resp = requests.get(url)\n",
    "    resp.raise_for_status()\n",
    "\n",
    "    html = resp.text\n",
    "    it = parse_script(html)\n",
    "\n",
    "    buff = ''\n",
    "\n",
    "    for i in it:\n",
    "        speaker, sentences = i\n",
    "\n",
    "        buff += '%s\\n\\n' % speaker\n",
    "\n",
    "        for sentence in sentences:\n",
    "            buff += sentence+' '\n",
    "\n",
    "        buff += '\\n\\n'\n",
    "        \n",
    "    f.write(buff)\n",
    "    \n",
    "    print 'Done %i/%i' % (j, num_episodes)"
   ]
  },
  {
   "cell_type": "code",
   "execution_count": 7,
   "metadata": {
    "collapsed": true
   },
   "outputs": [],
   "source": [
    "f.close()"
   ]
  },
  {
   "cell_type": "code",
   "execution_count": null,
   "metadata": {
    "collapsed": true
   },
   "outputs": [],
   "source": []
  }
 ],
 "metadata": {
  "kernelspec": {
   "display_name": "Python 2",
   "language": "python",
   "name": "python2"
  },
  "language_info": {
   "codemirror_mode": {
    "name": "ipython",
    "version": 2
   },
   "file_extension": ".py",
   "mimetype": "text/x-python",
   "name": "python",
   "nbconvert_exporter": "python",
   "pygments_lexer": "ipython2",
   "version": "2.7.11"
  }
 },
 "nbformat": 4,
 "nbformat_minor": 0
}
